{
 "cells": [
  {
   "cell_type": "markdown",
   "metadata": {},
   "source": [
    "# TP 7: Éléments finis en 2D"
   ]
  },
  {
   "cell_type": "markdown",
   "metadata": {},
   "source": [
    "Dans ce TP, on s'intéresse à la résolution approchée du problème aux limites suivant, avec conditions aux limites de Neumann homogène :\n",
    "\n",
    "$$\n",
    "(PN)\\left\\{\\begin{aligned}\n",
    "&-\\Delta u+u=f,\\ \\textrm{dans }\\Omega,\\\\\n",
    "&\\frac{\\partial u}{\\partial n}=0, \\textrm{dans }\\partial\\Omega\n",
    "\\end{aligned}\n",
    "\\right.\n",
    "$$\n",
    "où $f:\\overline{\\Omega}\\longrightarrow\\mathbb{R}$ est une fonction de classe $\\mathcal{C}^2$ donnée et où $\\Omega$ est un ouvert de $\\mathbb{R}^2$ donné. \n",
    "\n",
    "**Q1)** Écrire la formulation variationnelle du problème $(P)$ sous la forme \n",
    "\\begin{equation*}\n",
    "(PNv)\\ \\ \\ \n",
    "\\begin{cases}\n",
    "u\\in V  \\,\\textrm{tel que}\\\\\n",
    "a(v,u)=L(v),\\ \\,\\forall\\ v\\in V ,\n",
    "\\end{cases}\n",
    "\\end{equation*}\n",
    "où $V=H^1(\\Omega)$, $a$ est une forme bilinéaire dans $V$  et $L$ une forme linéaire de $V,$ que l'on explicitera. Montrer que le problème $(PNv)$ admet une unique solution.\n",
    "\n",
    "Soit $T_h$ une triangulation du domaine $\\Omega$ et $V_h$ l'approximation de $H^1(\\Omega)$ par des éléments finis $P^1$ associés à la triangulation $T_h.$ On note $\\{T_N\\}_{N=1,\\dots,Ntri}\\ $ les triangles de $T_h,$ $\\{S_I\\}_{I=1,\\dots,NSom}\\ $ les sommets de la triangulation et $\\{\\Phi_I\\}_{I=1,\\dots,NSom}\\ $ les fonctions de la base de $V_h$ définies par $\\Phi_I(S_J)=\\delta_{IJ},\\ I,J=1,\\dots,NSom.$ \n",
    "\n",
    "Le problème discret consiste alors à chercher $u_h\\in V_h$ tel que \n",
    "$$\n",
    "(PNv_h)\\ \\ \\ \\ \\ \\ \\ \\ \\ a(\\Phi_I,u_h)=L(\\Phi_I),\\ \\,\\forall\\ I=1,\\dots,NSom. \n",
    "$$\n",
    "\n",
    "**Q2)** Soit $u_h=\\displaystyle{\\sum_{I=1}^{{NSom}}u_I\\Phi_I}.$ Montrer que $u_h$ est solution de $(PNv_h)$ si et seulement si le vecteur $U=(u_1,\\dots,u_{NSom})^T$ est solution d'un système linéaire \n",
    "$$\n",
    "KU+MU=F,\n",
    "$$\n",
    "où $K$ et $M$ sont les matrices de $\\mathcal{M}^{NSom\\times NSom}(\\mathbb{R})$ définies par $K_{I,J}=\\int_{\\Omega}\\nabla\\Phi_I\\cdot\\nabla\\Phi_J,$ $M_{I,J}=\\int_{\\Omega}\\Phi_I\\Phi_J,$ et où $F$ est le vecteur de $\\mathbb{R}^{NSom}$ défini par $F_I=\\int_{\\Omega}f\\Phi_I.$ \n",
    "\n",
    "** Maillage de $\\Omega.$ **\n",
    "\n",
    "Dans un premier temps on considère $\\Omega$ le carré $[0,2]\\times[0,2].$ \n",
    "\n",
    "La triangulation $T_h$ de $\\Omega$ est représentée par deux matrices. La première, que l'on appellera dans le programme python $TabTri,$ contient la liste des triangles. Il s'agit d'une matrice de taille $NTri\\times3$ que, dans chaque ligne $N$, contient l'indice $I$ de chaque sommet $S_I$ appartenant au triangle $T_N.$ La deuxième, que l'on appellera $TabSom,$ contient les coordonnées de chaque sommet de la triangulation. C'est une matrice de taille $NSom\\times2$ que, dans chaque ligne $I$ contient les coordonnées du sommet $S_I.$ \n",
    "Le code suivant crée le maillage et ces matrices.\n"
   ]
  },
  {
   "cell_type": "code",
   "execution_count": 3,
   "metadata": {},
   "outputs": [
    {
     "data": {
      "image/png": "[encoded data removed]",
      "text/plain": [
       "<matplotlib.figure.Figure at 0xb6c2970c>"
      ]
     },
     "metadata": {},
     "output_type": "display_data"
    }
   ],
   "source": [
    "%matplotlib inline\n",
    "import matplotlib.pyplot as plt\n",
    "import numpy as np\n",
    "import matplotlib.tri as tri\n",
    "import math\n",
    "import numpy.random as rd\n",
    "\n",
    "\n",
    "Nx=18\n",
    "Ny=18\n",
    "\n",
    "x_m=0.\n",
    "x_M=2.\n",
    "y_m=0.\n",
    "y_M=2.\n",
    "\n",
    "x=np.linspace(x_m,x_M,Nx+2)\n",
    "y=np.linspace(y_m,y_M,Ny+2)\n",
    "\n",
    "X,Y=np.meshgrid(x,y)\n",
    "\n",
    "X=X.flatten()\n",
    "Y=Y.flatten()\n",
    "\n",
    "triang = tri.Triangulation(X, Y)\n",
    "\n",
    "NTri=np.shape(triang.triangles)[0]\n",
    "NSom=np.shape(triang.x)[0]\n",
    "\n",
    "#Tableau avec coordonnes des noeuds\n",
    "TabSom=np.zeros([NSom,2])\n",
    "TabSom[:,0]=triang.x\n",
    "TabSom[:,1]=triang.y\n",
    "\n",
    "# Tableau avec noeuds des triangles\n",
    "TabTri=triang.triangles\n",
    "\n",
    "plt.figure(1)\n",
    "plt.gca().set_aspect('equal')\n",
    "plt.triplot(X,Y,triang.triangles, 'b-', lw=0.5)\n",
    "plt.title('maillage')\n",
    "\n",
    "plt.show()\n",
    "\n"
   ]
  },
  {
   "cell_type": "markdown",
   "metadata": {},
   "source": [
    "** Les matrices élémentaires **\n",
    "\n",
    "Pour construire les matrices de masse M et de rigidité K, on commence par définir des matrices élémentaires qui permettent, localement sur un triangle $T_N$ de noeuds $S_{I_1},\\ S_{I_2}$ et $S_{I_3},$ de calculer \n",
    "$$\n",
    "\\int_{T_N}\\nabla\\Phi_{I_i}\\dot\\nabla\\Phi_{I_j}\\ \\ \\ \\textrm{et}\\ \\ \\ \\ \\int_{T_N}\\Phi_{I_i}\\dot\\Phi_{I_j} \n",
    "$$\n",
    "pour $i,\\ j=1,2,3.$ Ces intégrales vont contribuer respectivement à l'élément $K_{I_i,I_j}$ et $M_{I_i,I_j}$ des matrices globales.\n",
    "\n",
    "** Q3)** Construire deux fonctions $M_{elem}(\\mathcal{S1},\\mathcal{S2},\\mathcal{S3})$ et $K_{elem}(\\mathcal{S1},\\mathcal{S2},\\mathcal{S3})$ calculant les matrices de masse et de rigidité élémentaires sur un triangle $T$ de sommets $\\mathcal{S1}=(x_1,y_1),\\ \\mathcal{S2}=(x_2,y_2)$ et $\\mathcal{S3}=(x_3,y_3).$  \n",
    "Pour calculer la matrice de masse élémentaire sur le triangle $T,$ on peut utiliser les formules ci-dessous, que l'on vérifiera. \n",
    "Les fonctions de base associées à chaque sommet de $T$ sont localement données par\n",
    "$$\n",
    "\\lambda_1(x,y)=\\frac{1}{D}(y_{23}(x-x_3)-x_{23}(y-y_3)),\\ \\ \\ \\lambda_2(x,y)=\\frac{1}{D}(y_{31}(x-x_1)-x_{31}(y-y_1)),\\ \\ \\ \\lambda_3(x,y)=\\frac{1}{D}(y_{12}(x-x_2)-x_{12}(y-y_2)),\n",
    "$$\n",
    "où $x_{ij}=x_i-x_j,\\ y_{ij}=y_i-y_j$ et $D=x_{23}y_{31}-x_{31}y_{23}.$ $|D|$ est égal à deux fois la surface du triangle.\n",
    "\n",
    "Pour $k_1,\\ k_2,\\ k_3\\in\\{0,1,2\\},$ on a \n",
    "$$\n",
    "\\int_{T}\\lambda_1^{k_1}\\lambda_2^{k_2}\\lambda_3^{k_3}=2\\frac{k_1!k_2!k_3!}{(k_1+k_2+k_3+2)!}aire(T).\n",
    "$$\n"
   ]
  },
  {
   "cell_type": "code",
   "execution_count": 4,
   "metadata": {
    "collapsed": true
   },
   "outputs": [],
   "source": [
    "\n",
    "def M_elem(S1,S2,S3):\n",
    "    x1 = S1[0]\n",
    "    y1 = S1[1]\n",
    "    x2 = S2[0] \n",
    "    y2 = S2[1]\n",
    "    x3 = S3[0]\n",
    "    y3 = S3[1]\n",
    "    D = ((x2-x1)*(y3-y1) - (y2-y1)*(x3-x1))\n",
    "    M=(1.*np.abs(D)/24)*np.ones([3,3])\n",
    "    M[range(3),range(3)]=1.*np.abs(D)/12\n",
    "    return M\n",
    "\n",
    "def K_elem(S1,S2,S3):\n",
    "    x1 = S1[0]\n",
    "    y1 = S1[1]\n",
    "    x2 = S2[0] \n",
    "    y2 = S2[1]\n",
    "    x3 = S3[0]\n",
    "    y3 = S3[1]\n",
    "    norm = np.zeros([3, 2])\n",
    "    norm[0, :] = np.array([y2-y3, x3-x2])\n",
    "    norm[1, :] = np.array([y3-y1, x1-x3])\n",
    "    norm[2, :] = np.array([y1-y2, x2-x1])\n",
    "    D = ((x2-x1)*(y3-y1) - (y2-y1)*(x3-x1))\n",
    "    K = np.zeros([3,3])\n",
    "    for i in range(3):\n",
    "        for j in range(3):\n",
    "            K[i,j] = np.dot(norm[i,:],norm[j,:])\n",
    "    return (1./(2*abs(D)))*K\n",
    "\n",
    "\n"
   ]
  },
  {
   "cell_type": "markdown",
   "metadata": {},
   "source": [
    "** Assemblage des matrices $M$ et $K.$ **\n",
    "\n",
    "Dans cette partie on met en oeuvre un algorithme pour construire les matrices $M$ et $K.$ Pour ce faire on remarque que, par exemple, \n",
    "$$\n",
    "M_{I,J}=\\sum_{N=1}^{NTri}\\int_{T_N}\\Phi_I\\Phi_J=\\sum_{N : S_I,S_J\\in T_N}\\int_{T_N}\\Phi_I\\Phi_J.\n",
    "$$\n",
    "\n",
    "L'algoritme de construction des matrices consiste alors à faire la boucle suivante :\n",
    "\n",
    "    Pour N= 1...NTri\n",
    "         Détérmination des sommets S_I1, S_I2 et S_I3 du triangle T_N\n",
    "         Calcul des matrices élémentaires associées au triangle T_N\n",
    "             Pour i=1..3\n",
    "                Pour j=1...3 \n",
    "                    M(Ii,Ij)=M(Ii,Ij)+M_elem(i,j)\n",
    "\n",
    "**Q4)** Compléter dans le programme l'assemblage des matrices M et K"
   ]
  },
  {
   "cell_type": "code",
   "execution_count": 6,
   "metadata": {},
   "outputs": [],
   "source": [
    "K = np.zeros([NSom,NSom])\n",
    "M = np.zeros([NSom,NSom])\n",
    "\n",
    "for N in range(0,NTri):\n",
    "    S1=TabSom[TabTri[N,0],:]\n",
    "    S2=TabSom[TabTri[N,1],:]\n",
    "    S3=TabSom[TabTri[N,2],:]\n",
    "    Kel=K_elem(S1, S2, S3)\n",
    "    Mel=M_elem(S1, S2, S3)\n",
    "    #print Kel\n",
    "    #print Mel\n",
    "    for i in range(0,3): \n",
    "        I = TabTri[N,i]\n",
    "        for j in range(0,3): \n",
    "            J = TabTri[N,j]\n",
    "            M[I,J] = M[I,J] + Mel[i,j]\n",
    "            K[I,J] = K[I,J] + Kel[i,j]\n"
   ]
  },
  {
   "cell_type": "markdown",
   "metadata": {},
   "source": [
    "**Calcul du second membre $F.$**\n",
    "\n",
    "On peut calculer exactement les composantes $F_I$ du vecteur $F$ ou approcher ses valeurs en utilisant par exemple des formules de quadrature.\n",
    "\n",
    "Ici on fait le choix de remplacer $f$ par son interpolé $P^1$ aux points du maillage, *i.e.* on approche $f$ par la fonction $\\displaystyle{\\sum_{I=1}^{NSom}f(S_I)\\Phi_I}.$ \n",
    "\n",
    "**Q5)** En approchant $f$ par son interpolé, donner une approximation du second membre $F$ faisant intervenir la matrice de masse.  \n",
    "\n",
    "On admet que cette approximation ne change pas l'approximation par éléments finis du problème. \n",
    "\n",
    "**Validation : calcul d'une solution connue**\n",
    "\n",
    "On considère $f$ tel que la fonction\n",
    "$$\n",
    "u(x,y)=\\cos(\\pi x)\\cos(2\\pi y)\n",
    "$$\n",
    "est solution du problème (PN) dans $\\Omega=[0,2]\\times[0,2].$ \n",
    "\n",
    "**Q6)** Construire dans le programme une fonction $f(x,y)$ définissant le second membre $f$ et calculer l'approximation du vecteur $F$ obtenue comme expliqué dessus. Calculer le vecteur $U$ des coefficients de la solution approchée donnée par la méthode des élements finis et utiliser le code suivant pour la visualiser."
   ]
  },
  {
   "cell_type": "code",
   "execution_count": 8,
   "metadata": {},
   "outputs": [
    {
     "data": {
      "image/png": "[encoded data removed]",
      "text/plain": [
       "<matplotlib.figure.Figure at 0xb4c594ec>"
      ]
     },
     "metadata": {},
     "output_type": "display_data"
    }
   ],
   "source": [
    "F = np.zeros([NSom,1])\n",
    "\n",
    "def f(x,y):\n",
    "    return (1.+5*np.pi**2)*np.cos(np.pi*x)*np.cos(2*np.pi*y)\n",
    "\n",
    "def uex(x,y):\n",
    "    return np.cos(np.pi*x)*np.cos(2*np.pi*y)\n",
    " \n",
    "ff=f(TabSom[:,0],TabSom[:,1])\n",
    "   \n",
    "F=np.dot(M,ff)\n",
    "\n",
    "A=M+K\n",
    "\n",
    "u=np.linalg.solve(A,F)\n",
    "ue=uex(TabSom[:,0],TabSom[:,1])\n",
    "\n",
    "plt.figure(2)\n",
    "plt.gca().set_aspect('equal')\n",
    "#plt.tripcolor(triang, U, shading='flat')\n",
    "plt.tripcolor(triang.x,triang.y,triang.triangles, u, shading='flat')\n",
    "plt.colorbar()\n",
    "plt.title('solution approchee par EF P1')\n",
    "\n",
    "plt.show()"
   ]
  },
  {
   "cell_type": "markdown",
   "metadata": {},
   "source": [
    "**Q7)** Soit $\\Pi_h u=\\displaystyle{\\sum_I=1^{NSom} u(S_I)\\Psi_i}$ l'interpolé $P1$ de la solution exacte $u$ de $(PN)$ aux points $S_I.$ Calculer, pour différentes valeurs de $h,$ la norme $L^2$ de l'erreur $u_h-\\Pi_h u.$ Remarquer que cette intégrale peut se calculer en utilisant la matrice de masse $M.$ Evaluer l'ordre de précision de la méthode en norme $L^2.$ \n",
    "\n",
    "**Q8) Une autre structure de maillage** \n",
    "Remplacez le debut de votre programme par le code ci-dessus, pour générer un maillage non structuré du carré."
   ]
  },
  {
   "cell_type": "code",
   "execution_count": null,
   "metadata": {
    "collapsed": true
   },
   "outputs": [],
   "source": [
    "Nx=18\n",
    "Ny=18\n",
    "\n",
    "x_m=0.\n",
    "x_M=2.\n",
    "y_m=0.\n",
    "y_M=2.\n",
    "\n",
    "Rx=rd.random([Nx+2,Nx+2])\n",
    "Rx[:,0]=0\n",
    "Rx[:,-1]=0\n",
    "Ry=rd.random([Ny+2,Ny+2])\n",
    "Ry[0,:]=0\n",
    "Ry[-1,:]=0\n",
    "x=np.linspace(x_m,x_M,Nx+2)#+4*((x_M-x_m)/(5*(Nx+2)))*Rx\n",
    "y=np.linspace(y_m,y_M,Ny+2)#+4*((y_M-y_m)/(5*(Ny+2)))*Ry\n",
    "\n",
    "X,Y=np.meshgrid(x,y)\n",
    "X=X+0.9*((x_M-x_m)/((Nx+2)))*Rx\n",
    "Y=Y+0.9*((y_M-y_m)/((Ny+2)))*Ry\n",
    "print X\n",
    "print Y\n",
    "\n",
    "X=X.flatten()\n",
    "Y=Y.flatten()\n",
    "\n",
    "triang = tri.Triangulation(X, Y)"
   ]
  },
  {
   "cell_type": "markdown",
   "metadata": {},
   "source": [
    "**Q9) Domaine coronne** On considère le problème (PN) dans une coronne. Pour cela remplacer le debut de votre code par le code ci-dessous, qui crée le domaine de calcul et le maillage. \n"
   ]
  },
  {
   "cell_type": "code",
   "execution_count": null,
   "metadata": {
    "collapsed": true
   },
   "outputs": [],
   "source": [
    "def triangulation_couronne(nrad=8,nang=36):\n",
    "    radii = np.linspace(0.25, 1, nrad)\n",
    "    angles = np.linspace(0, 2*np.pi, nang, endpoint=False)\n",
    "    angles = np.repeat(angles[..., np.newaxis], nrad, axis=1)\n",
    "    angles[:, 1::2] += np.pi/nang\n",
    "    x = (radii*np.cos(angles)).flatten()\n",
    "    y = (radii*np.sin(angles)).flatten()\n",
    "\n",
    "    # On construit une triangulation de Delaunay et on filtre les triangles proches de l'origine\n",
    "    triang = tri.Triangulation(x, y)\n",
    "    xmid = x[triang.triangles].mean(axis=1)\n",
    "    ymid = y[triang.triangles].mean(axis=1)\n",
    "    mask = xmid*xmid + ymid*ymid >= .25*.25\n",
    "    T = triang.triangles[mask,:]\n",
    "    return x,y,T\n",
    "\n",
    "[x,y,T] = triangulation_couronne(8,36)\n",
    "\n",
    "\n",
    "NTri=np.shape(T)[0]\n",
    "NSom=np.shape(x)[0]\n",
    "\n",
    "TabSom=np.zeros([NSom,2])\n",
    "TabSom[:,0]=x\n",
    "TabSom[:,1]=y\n",
    "\n",
    "# noeuds des triangles\n",
    "TabTri=T\n",
    "\n",
    "# .... Le programme\n",
    "\n"
   ]
  }
 ],
 "metadata": {
  "kernelspec": {
   "display_name": "Python 2",
   "language": "python",
   "name": "python2"
  },
  "language_info": {
   "codemirror_mode": {
    "name": "ipython",
    "version": 2
   },
   "file_extension": ".py",
   "mimetype": "text/x-python",
   "name": "python",
   "nbconvert_exporter": "python",
   "pygments_lexer": "ipython2",
   "version": "2.7.13"
  }
 },
 "nbformat": 4,
 "nbformat_minor": 1
}
