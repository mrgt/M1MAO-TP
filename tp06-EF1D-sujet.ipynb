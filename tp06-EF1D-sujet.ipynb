{
 "cells": [
  {
   "cell_type": "markdown",
   "metadata": {},
   "source": [
    "# TP 6: La méthode des éléments finis pour les équations élliptiques 1D"
   ]
  },
  {
   "cell_type": "markdown",
   "metadata": {},
   "source": [
    "Dans ce TP, on s'intéresse à la résolution approchée de problèmes aux limites pour des équation elliptiques en dimension 1, par la\n",
    "méthode des éléments finis.\n",
    "\n",
    "## 1. Un problème avec conditions aux limites de Dirichlet homogènes.\n",
    "\n",
    "On s'intérèsse au problème :\n",
    "\n",
    "$$\n",
    "(P)\\left\\{\\begin{aligned}\n",
    "&-u''(x)+u(x)=f(x),\\ x\\in ]0,1[,\\\\\n",
    "&u(0)=u(1)=0,\n",
    "\\end{aligned}\n",
    "\\right.\n",
    "$$\n",
    "où $f:[0,1]\\longrightarrow\\mathbb{R}$ est une fonction de classe $\\mathcal{C}^2$ donnée. Dans ces conditions, on peut montrer que le problème $(P)$ admet une unique solution de classe $C^2.$\n",
    "\n",
    "On considère l'espace  \n",
    "$$ \n",
    "V:=H^1_0(]0,1[) = \\left\\{ v \\in L^2(]0,1[)\\,:\\, v' \\in L^2(]0,1[),\\ \n",
    "v(0)=v(1)=0 \\right\\}.\n",
    "$$\n",
    "\n",
    "**Q1)** Écrire la formulation variationnelle du problème $(P)$ sous la forme \n",
    "\\begin{equation*}\n",
    "(Pv)\\ \\ \\ \n",
    "\\begin{cases}\n",
    "u\\in V  \\,\\textrm{tel que}\\\\\n",
    "a(v,u)=L(v),\\ \\,\\forall\\ v\\in V ,\n",
    "\\end{cases}\n",
    "\\end{equation*}\n",
    "où $a$ est une forme bilinéaire dans $V$  et $L$ une forme linéaire de $V,$ que l'on explicitera. Montrer que le problème $(Pv)$ admet une unique solution.\n",
    "\n",
    "\n",
    "L'idée de la méthode des éléments finis est de chercher une solution approchée de $(Pv)$ dans un sous-espace vectoriel de dimension finie $n\\in\\mathbb{N}$, que l'on note $V^n.$ Autrement dit, on cherche $u^n\\in V^n$ tel que\n",
    "$$\n",
    "(P_nv)\\ \\ \\ \\ \\ \\ \\ \\ \\ a(v^n,u^n)=L(v^n),\\ \\,\\forall\\ v^n\\in V^n. \n",
    "$$\n",
    "\n",
    "**Q2)** Soit $(\\phi_1,\\dots,\\phi_n)$ une base de $V^n.$ Montrer que $u^n=\\displaystyle{\\sum_{i=1}^n u_i\\phi_i}$ est solution de $(P_nv)$ si et seulement si le vecteur $U=(u_1,\\dots,u_n)^T$ est solution d'un système linéaire \n",
    "$$\n",
    "KU+MU=F,\n",
    "$$\n",
    "où $K$ et $M$ sont des matrices de $\\mathcal{M}_n(\\mathbb{R})$ et $F$ un vecteur de $\\mathbb{R}^n$ que l'on explicitera.\n",
    "\n",
    "\n",
    "**Choix de l'espace $V^n$**\n",
    "On commence par discrétiser l'intervalle $]0,1[$ en $n+1$ sous-intervalles $]x_i,x_{i+1}[,\\ i=0,\\dots,n,$ où $x_i=ih,$ avec $h=\\frac{1}{n+1}$ le pas de la discrétisation.\n",
    "Le principe de la méthode des éléments finis P1 consiste à considérer $V^n$ le sous-espace de $V$ des fonctions affines par morceaux, polynômes de degré 1 dans les intervalles $[x_i,x_{i+1}],$ c'est-à-dire  \n",
    "$$ \n",
    "V^n:=V_h \\ = \\left \\{ v_h \\in C^0([0,1])\\,\\,:\\,\\ v_h\\ \\textrm{est affine sur } {[x_i,x_{i+1}]}  \\textrm{ et } v_h(0)=v_h(1)=0 \\right \\} .\n",
    "$$\n",
    "\n",
    "**Q3)** Vérifier que $V_{h}$ est un espace de dimension finie $n,$ dont une base est formée par les fonctions $\\,\\psi_{i}$, $i=1,...,n,\\ $ définies par\n",
    "$\\psi_{i}(x_{j})=\\delta_{i,j},$ soit \n",
    "$$\n",
    "\\psi_{i}(x)= \n",
    "\\begin{cases}\n",
    "\\frac{x-x_{i-1}}{x_{i}-x_{i-1}},  &  \\textrm{si } x_{i-1} \\le  x \\le  x_{i},  \\\\\n",
    "\\frac{x-x_{i+1}}{x_{i}-x_{i+1}},  &  \\textrm{si } x_{i} \\le  x \\le x_{i+1},  \\\\\n",
    "0,  &  \\textrm{sinon.}  \n",
    "\\end{cases}\n",
    "$$\n",
    "\n",
    "Les fonctions $\\psi_i$ sont communément appelées *fonctions chapeau.*\n",
    "\n",
    "**Q4)** Calculer explicitement en fonction de $h$ les coefficients des matrices $K$ et $M.$ Donner l'expression des coefficients $F_i$ du vecteur $F$ et calculer une valeur approchée de $F_i$ par la méthode des trapèzes. \n",
    "\n",
    "**Q5) Implémentation en python.**\n",
    "Ecrire des fonctions $K(n)$ et $M(n)$ calculant les matrices $K$ et $M.$ Ecrire une fonction $F(n)$ calculant une valeur approché du vecteur $F$ en utilisant la méthode des trapèzes. Ecrire un programme donnant la solution approchée $u_h$ de $(P_v)$ dans le cas $f=1$ et $f=(1+\\pi^2)\\sin(\\pi x).$ \n",
    "\n",
    "Représenter, dans les deux cas, la solution approchée et la solution exacte. Pour cela, remarquer que\n",
    "\n",
    "*i)* La solution de $(P)$ pour $f=1$ est donnée par\n",
    "$$\n",
    "u(x)=1-\\frac{e^x+e^{1-x}}{1+e} ;\n",
    "$$\n",
    "*ii)* La solution de $(P)$ pour $f=(1+\\pi^2)\\sin(\\pi x)$ est donnée par $u(x)=\\sin(\\pi x).$\n",
    "\n",
    "**Q6)** Soit $\\Pi_h u=\\displaystyle{\\sum_i=1^n u(x_i)\\Psi_i}$ l'interpolé $P1$ de la solution exacte $u$ de $(P)$ aux points $x_i.$ Calculer, pour différentes valeurs de $h,$ la norme $L^2$ de l'erreur $u_h-\\Pi_h u.$ Remarquer que cette intégrale peut se calculer en utilisant la matrice de masse $M.$ Evaluer l'ordre de précision de la méthode en norme $L^2.$ \n"
   ]
  },
  {
   "cell_type": "code",
   "execution_count": 1,
   "metadata": {
    "collapsed": true
   },
   "outputs": [],
   "source": [
    "import numpy as np\n",
    "\n",
    "%matplotlib inline\n",
    "import matplotlib.pyplot as plt\n",
    "\n",
    "#def matA(n):\n",
    "     #completer\n",
    "    \n",
    "# ...    "
   ]
  },
  {
   "cell_type": "markdown",
   "metadata": {},
   "source": [
    "**Q7) Convergence de la méthode.** Soit $u$ la solution exacte de $(P)$ et $\\Pi_h u$ sont interpolé définie comme dans **Q6.** Montrer qu'il existe une constante C indépendante de $h$ tel que\n",
    "$$\n",
    "\\|u-\\Pi_h u\\|_{L^2}\\le C h^2\\|u^{''}\\|\n",
    "$$\n",
    "et\n",
    "$$\n",
    "\\|u'-(\\Pi_h u)'\\|_{L^2}\\le C h\\|u^{''}\\|.\n",
    "$$\n",
    "Conclure que la méthode converge en norme $H^1.$"
   ]
  },
  {
   "cell_type": "markdown",
   "metadata": {},
   "source": [
    "## 2. Conditions aux limites mixtes.\n",
    "\n",
    "Soit maintenant $p>0$ et considérons le problème \n",
    "\n",
    "$$\n",
    "(\\tilde{P})\\left\\{\\begin{aligned}\n",
    "&-u''(x)+u(x)=f(x),\\ x\\in ]0,1[,\\\\\n",
    "&u(0)=0,\\ u'(1)+pu(1)=0.\n",
    "\\end{aligned}\n",
    "\\right.\n",
    "$$\n",
    "\n",
    "**Q8)** Ecrire la formulation variationnelle de $\\tilde{P}$ dans l'espace \n",
    "$$ \n",
    "\\tilde{V} = \\left\\{ v \\in L^2(]0,1[)\\,:\\, v' \\in L^2(]0,1[),\\ \n",
    "v(0)=0 \\right\\}.\n",
    "$$\n",
    "\n",
    "Pour approcher le problème $\\tilde{P}$ on considère, avec les mêmes notations qu'avant, l'espace \n",
    "$$ \n",
    "\\tilde{V}_h \\ = \\left \\{ v_h \\in C^0([0,1])\\,\\,:\\,\\ v_h\\ \\textrm{est affine sur } {[x_i,x_{i+1}]}  \\textrm{ et } v_h(0)=0 \\right \\}.\n",
    "$$\n",
    "\n",
    "L'espace $\\tilde{V}_h$ est un espace de dimension finie $n+1$ dont une base est constituée des fonctions $\\psi_i,$  $i=1,\\dots,n+1,$ avec  $\\psi_{n+1}$ la fonction continue, affine sur $[x_i,x_{i+1}],$ pour tout $i,$ tel que $\\psi_{n+1}(x_{n+1})=1,\\ \\psi_{n+1}(x_i)=0,\\ $ pour $i=1,\\dots,n.$\n",
    "\n",
    "**Q9)**Re-écrire le problème variationnel discret associé à la formulation variationnelle trouvée dans **Q8**. Ecrire un programme donnant la solution approchée de $\\tilde{P}$ dans le cas $p=1,$ $f=(\\pi^2+1)\\sin(\\pi x)+\\frac{\\pi}{2}x,$ pour lequel la solution exacte de $\\tilde{P}$ est donnée par $u(x)=\\sin(\\pi x)+\\frac{\\pi}{2}x.$ \n"
   ]
  },
  {
   "cell_type": "code",
   "execution_count": null,
   "metadata": {
    "collapsed": true
   },
   "outputs": [],
   "source": []
  }
 ],
 "metadata": {
  "kernelspec": {
   "display_name": "Python 2",
   "language": "python",
   "name": "python2"
  },
  "language_info": {
   "codemirror_mode": {
    "name": "ipython",
    "version": 2
   },
   "file_extension": ".py",
   "mimetype": "text/x-python",
   "name": "python",
   "nbconvert_exporter": "python",
   "pygments_lexer": "ipython2",
   "version": "2.7.13"
  }
 },
 "nbformat": 4,
 "nbformat_minor": 1
}
