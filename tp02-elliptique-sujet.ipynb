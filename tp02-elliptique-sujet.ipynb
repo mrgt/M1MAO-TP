{
 "cells": [
  {
   "cell_type": "markdown",
   "metadata": {
    "deletable": true,
    "editable": true
   },
   "source": [
    "$$\\newcommand{\\nr}[1]{\\|#1\\|}\n",
    "\\newcommand{\\Rsp}{\\mathbb{R}}$$\n",
    "# TP 2: Méthode des différences finies pour $-u'' = f$\n",
    "\n",
    "\n",
    "## Exercice 1. Ordre de convergence avec conditions au bord de Dirichlet\n",
    "\n",
    "On approche le problème $-u''=f$ avec conditions de Dirichlet : \n",
    "\n",
    "$$\n",
    "\\left\\{\\begin{aligned}\n",
    "&-u''(x) = f(x) \\hbox{ sur } ]0,1[ \\\\\n",
    "&u(0) = u(1) = 0\n",
    "\\end{aligned}\\right.$$\n",
    "\n",
    "par le système linéaire de dimension finie \n",
    "\n",
    "$$\n",
    "\\left\\{\\begin{aligned}\n",
    "&-\\frac{1}{h}(u_{i-1} - 2 u_i + u_{i+1}) = f_i \\hbox{ pour } 1\\leq i\\leq N\\\\\n",
    "&u_{0} = 0, u_{n+1} = 0 \n",
    "\\end{aligned}\\right.,$$\n",
    "\n",
    "où $h = 1/(N+1)$ et $x_j = \\tau j$ pour $0\\leq j\\leq N$ et $f_j = f(t_j)$. \n",
    "\n",
    "**Q1:** On considère $f(x) = (2\\pi)^2 \\sin(2\\pi x)$, de sorte que la solution de l'équation est donnée par $u(x) = \\sin(2\\pi x)$. Illustrer numériquement le fait que la méthode des différences finies est d'ordre $2$ pour ce problème."
   ]
  },
  {
   "cell_type": "code",
   "execution_count": 1,
   "metadata": {
    "collapsed": false,
    "deletable": true,
    "editable": true
   },
   "outputs": [],
   "source": [
    "import numpy as np\n",
    "%matplotlib inline\n",
    "import matplotlib.pyplot as plt\n",
    "\n",
    "## Laplacien avec conditions de Dirichlet\n",
    "def D(n):\n",
    "    tau = 1.0/(n+1)\n",
    "    A = np.zeros((n,n))\n",
    "    for i in xrange(n):\n",
    "        A[i,i] = -2\n",
    "    for i in xrange(n-1):\n",
    "        A[i,i+1] = 1\n",
    "        A[i+1,i] = 1\n",
    "    return -A/(tau*tau)\n"
   ]
  },
  {
   "cell_type": "markdown",
   "metadata": {
    "deletable": true,
    "editable": true
   },
   "source": [
    "## Exercice 2. Traitement de conditions au bord de Neumann\n",
    "\n",
    "On approche le problème $-u'' + u=f$ avec conditions de Neumann : \n",
    "\n",
    "$$\n",
    "\\left\\{\\begin{aligned}\n",
    "&-u''(x) + u(x) = f(t) \\hbox{ sur } ]0,1[ \\\\\n",
    "&u'(0) = u'(1) = 0\n",
    "\\end{aligned}\\right.$$\n",
    "\n",
    "par le système linéaire de dimension finie \n",
    "\n",
    "$$\n",
    "\\left\\{\\begin{aligned}\n",
    "&\\frac{u_{1} - u_0}{h} = 0, \\frac{u_{N+1} - u_N}{h} = 0 \\\\\n",
    "&\\frac{1}{h}(u_{i-1} - 2 u_i + u_{i+1}) = f_i \\hbox{ pour } 1\\leq i\\leq N\n",
    "\\end{aligned}\\right.,$$\n",
    "\n",
    "où $h = 1/(N+1)$ et $x_j = \\tau j$ pour $0\\leq j\\leq N+1$ et $f_j = f(t_j)$.\n",
    "\n",
    "Le problème discret peut être écrit sous la forme $A U = F$ où $A$ est une matrice de taille $N\\times N$, où $U = (u_1,\\dots,u_{N}) \\in\\Rsp^N$, et où $F = (f_1,\\dots,f_N)$.\n",
    "\n",
    "**Q1.**  Montrer que si $V\\in \\Rsp^{N}$ vérifie $A V = G$, alors \n",
    "$\\nr{V}_\\infty \\leq \\nr{G}_\\infty$, où $\\nr{G}_\\infty = \\max_{i} |G_i|.$ En déduire que $A$ est inversible. *(Indication: considérer l'indice $i_0$ réalisant le maximum dans la définition de $\\nr{V}_\\infty$, et démontrer que $V_{i_0} \\leq F_{i_0} \\leq \\nr{F}_\\infty$.)*\n",
    "\n",
    "**Q2.** Montrer que si $u\\in C^3([0,1])$ est solution du problème continu, et si l'on pose $\\bar{U} = (u(x_1),\\dots, u(x_{N}$, alors $\\nr{A \\bar{U} - F}_\\infty \\leq C h$ où $C$ ne dépend que de $u$ (et pas de $h$).\n",
    "\n",
    "**Q3.** En déduire que si $U$ vérifie $A U = F$, alors $\\nr{U - \\bar{U}}_\\infty \\leq Ch$.\n",
    "\n",
    "**Q4.** En prenant $f(x) = ((2\\pi)^2 + 1) \\cos(2\\pi x)$ (soit $u(x) = \\cos(2\\pi x)$), montrer que la convergence est d'ordre $1$ mais pas $2$."
   ]
  },
  {
   "cell_type": "code",
   "execution_count": null,
   "metadata": {
    "collapsed": false,
    "deletable": true,
    "editable": true
   },
   "outputs": [],
   "source": []
  },
  {
   "cell_type": "markdown",
   "metadata": {
    "deletable": true,
    "editable": true
   },
   "source": [
    "## Exercice 3. Conditions non homogènes.\n",
    "\n",
    "On approche le problème $-u''=f$ avec conditions de Dirichlet non-homogènes : \n",
    "\n",
    "$$\n",
    "\\left\\{\\begin{aligned}\n",
    "&-u''(x) = f(x) \\hbox{ sur } ]0,1[ \\\\\n",
    "&u(0) = a, u(1) = b,\n",
    "\\end{aligned}\\right.$$\n",
    "\n",
    "où $a,b\\in\\Rsp$, par le système linéaire de dimension finie \n",
    "\n",
    "$$\n",
    "\\left\\{\\begin{aligned}\n",
    "&-\\frac{1}{h}(u_{i-1} - 2 u_i + u_{i+1}) = f_i \\hbox{ pour } 1\\leq i\\leq N \\\\\n",
    "&u_{0} = a, u_{n+1} = b \n",
    "\\end{aligned}\\right.,$$\n",
    "\n",
    "où $h = 1/(n+1)$ et $x_j = \\tau j$ pour $0\\leq j\\leq n$ et $f_j = f(t_j)$. \n",
    "\n",
    "**Q1** Mettre ce système sous la forme $A U = F+\\Delta$ où $A$ est la discrétisation habituelle de l'opérateur $u\\mapsto -u''$ (de taille $N\\times N$) et où $\\Delta \\in\\Rsp^N$ est un vecteur à déterminer.\n",
    "\n",
    "**Q2** Vérifier que dans ce cas aussi la convergence est d'ordre $2$ dans le cas $a=1, b=0, f = (3\\pi/2)^2 \\cos\\left(\\frac{3\\pi}{2} x\\right)$ dont la solution est $x \\mapsto \\cos\\left(\\frac{3\\pi}{2} x\\right)$. Justifier rapidement cet ordre de convergence."
   ]
  },
  {
   "cell_type": "code",
   "execution_count": null,
   "metadata": {
    "collapsed": false,
    "deletable": true,
    "editable": true
   },
   "outputs": [],
   "source": []
  },
  {
   "cell_type": "markdown",
   "metadata": {
    "deletable": true,
    "editable": true
   },
   "source": [
    "## Exercice 4. Méthode d'ordre 2 pour les conditions de Neumann\n",
    "\n",
    "On considère à nouveau le problème $-u'' + u=f$ avec conditions de Neumann : \n",
    "\n",
    "$$\n",
    "\\left\\{\\begin{aligned}\n",
    "&-u''(x) + u(x) = f(t) \\hbox{ sur } ]0,1[ \\\\\n",
    "&u'(0) = u'(1) = 0\n",
    "\\end{aligned}\\right.$$\n",
    "\n",
    "**Q1** En partant de l'égalité\n",
    "$ u(h) = u(0) + hu'(0) + \\frac{h^2}{2} u''(0) + O(h^3), $\n",
    "réécrite sous la forme\n",
    "$$\n",
    "\\begin{align*}\n",
    "u'(0) &= \\frac{1}{h} (u(h) - u(0) - \\frac{h}{2} u''(0)) + O(h^2) \\\\\n",
    "&= \\frac{1}{h} (u(h) - u(0)) - \\frac{h}{2} (u(0) - f(0)) + O(h^2)\n",
    "\\end{align*}\n",
    "$$\n",
    "proposer une discrétisation d'ordre deux pour la condition $u'(0) = 0$. Mettre le schéma sous la forme $AU = F + \\Delta$ où $A$ (taille $N\\times N$) et $\\Delta\\in\\Rsp^N$ sont à déterminer.\n",
    "\n",
    "**Q2** Vérifier numériquement qu'on obtient effectivement un ordre $2$."
   ]
  },
  {
   "cell_type": "code",
   "execution_count": null,
   "metadata": {
    "collapsed": true,
    "deletable": true,
    "editable": true
   },
   "outputs": [],
   "source": []
  }
 ],
 "metadata": {
  "kernelspec": {
   "display_name": "Python 2",
   "language": "python",
   "name": "python2"
  },
  "language_info": {
   "codemirror_mode": {
    "name": "ipython",
    "version": 2
   },
   "file_extension": ".py",
   "mimetype": "text/x-python",
   "name": "python",
   "nbconvert_exporter": "python",
   "pygments_lexer": "ipython2",
   "version": "2.7.12"
  }
 },
 "nbformat": 4,
 "nbformat_minor": 2
}
