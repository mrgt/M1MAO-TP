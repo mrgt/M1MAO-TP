{
 "cells": [
  {
   "cell_type": "markdown",
   "metadata": {
    "deletable": true,
    "editable": true
   },
   "source": [
    "# TP 5: Équation Eikonale\n",
    "\n",
    "# 1. Équation eikonale en dimension 1\n",
    "On s'intéresse à l'approximation numérique de l'unique solution de viscosité de l'EDP suivante:\n",
    "\n",
    "$$ \\newcommand{\\abs}[1]{|#1|}\n",
    "\\newcommand{\\nr}[1]{\\|#1\\|}\n",
    " \\newcommand{\\Rsp}{\\mathbb{R}}\n",
    " \\newcommand{\\Mat}{\\mathcal{M}}\n",
    "\\begin{cases} \\abs{u'(x)} = 1 & \\hbox{ sur } [0,1] \\\\ \n",
    "u(0) = u(1) = 0.\n",
    "\\end{cases}\n",
    "$$\n",
    "\n",
    "Ici, la solution est connue et explicite: il s'agit de la fonction $u(x) = 0.5 - \\abs{x-.5}$. Soient $M > 0$, $h=1/(M+1)$ et $x_i = i/h$ pour $0\\leq i\\leq M+1$. On discrétise l'équation eikonale par le système non-linéaire suivant \n",
    "\n",
    "$$ P_h(u) = b $$\n",
    "\n",
    "où $u\\in \\Rsp^{M+2}$, $b = (0,1,\\dots,1,0) \\in \\Rsp^{M+2}$ et où l'application $P_h: \\Rsp^{M+2}\\to\\Rsp^{M+2}$ est définie par\n",
    "\n",
    "$$\\begin{cases}\n",
    "P_h(u)_0 = u_0, \\\\\n",
    "P_h(u)_{M+1} = u_{M+1}, \\\\\n",
    "P_h(u)_i = \\max\\left(0, \\frac{u_i - u_{i-1}}{h}, \\frac{u_i - u_{i+1}}{h}\\right),  & \\hbox{ pour } 1\\leq i\\leq M\\\\\n",
    "\\end{cases}\n",
    "$$\n",
    "\n",
    "Comme l'application $P_h$ n'est pas linéaire, il n'existe pas de routine toute faite pour résoudre le problème $P_h(u) = b$. Nous allons considérer ici un algorithme itératif simple, qui fait croître les valeurs de $u$ coordonnées à coordonnées et que l'on peut voir comme une implémentation discrète de la \"méthode de Perron\" en EDP. On commence par $u^0 = (0,\\dots,0) \\in \\Rsp^{M+2}$ et on va construire une suite $u^k \\in \\Rsp^{M+2}$ pour $k=1,\\dots$ tel que $u^k \\leq u^{k+1}$ et telle que pour tout $k\\geq 0$, $P_h(u^k) \\leq b$. \n",
    "\n",
    "**Q1.** Montrer que $P_h(u^0) \\leq b$.\n",
    "\n",
    "**Q2.** Soir $u \\in\\Rsp^{M+2}$ tel que $P_h(u) \\leq b$. Montrer que pour tout $0\\leq i\\leq M+2$, et  tout $t\\geq 0$, on a\n",
    "\n",
    "$$ \\forall j\\in \\{0,\\dots,M+2\\}\\setminus\\{i\\},\\qquad P_h(u+t e_i)_j \\leq b_j, $$\n",
    "\n",
    "où $e_i$ est le $i$ème vecteur de la base canonique.\n",
    "\n",
    "**Q3.** Soient $u \\in \\Rsp^{M+2}$ et $1\\leq i\\leq M$ tels que $P_h(u)_i \\leq b_i$. Montrer que l'unique $t_i \\in \\Rsp$ tel que \n",
    "$P_h(u + t_i e_i)_i = b_i$ est donné par \n",
    "\n",
    "$$ t_i = h \\min\\left(b_i - \\frac{u_i-u_{i-1}}{h}, b_i - \\frac{u_i-u_{i+1}}{h}\\right).$$\n",
    "\n",
    "En particulier, $t_i = 0$ si et seulement si $u$ vérifie $P_h(u)_i = b_i$.\n",
    "\n",
    "On considère l'algorithme suivant:\n",
    "\n",
    "\n",
    "$$ \n",
    "\\begin{cases}\n",
    "u^0 = (0,\\dots,0)\\in\\Rsp^{M+2} \\\\\n",
    "t^k_0 = t^k_{M+1} = 0& \\hbox{ pour } k\\geq 0\\\\\n",
    "t^k_i = h \\min\\left(b_i - \\frac{u^k_i - u^k_{i-1}}{h}, b_i - \\frac{u^k_i-u^k_{i+1}}{h}\\right), & \\hbox{ pour } k\\geq 0, 1\\leq i\\leq M \\\\\n",
    "u^{k+1} = u^k + t^k\n",
    "\\end{cases}\n",
    "$$\n",
    "\n",
    "**Q4.** Montrer que $u^{k} \\leq u^{k+1}$ et que $P_h(u^k) \\leq b$ pour tout $k\\geq 0$.\n",
    "\n",
    "On admettra qu'il existe une constante $M$ telle que $P_h(u) \\leq b \\Longrightarrow u \\leq M$. \n",
    "\n",
    "**Q5.** Démontrer que la suite $u^k$ converge vers $u^\\infty$, puis que $P_h(u^\\infty) = b$.\n",
    "\n",
    "**Q6.** Implémenter l'algorithme et tracer sur une même figure l'évolution de $u^k$ pour $1\\leq k\\leq M$."
   ]
  },
  {
   "cell_type": "code",
   "execution_count": 1,
   "metadata": {
    "collapsed": false,
    "deletable": true,
    "editable": true
   },
   "outputs": [],
   "source": [
    "import numpy as np\n",
    "import scipy.misc as spmisc\n",
    "%matplotlib inline\n",
    "import matplotlib.pyplot as plt\n",
    "\n",
    "M = 100\n",
    "x = np.linspace(0,1,M+2)\n",
    "h = 1./(M+1)\n",
    "u = np.zeros(M+2)\n",
    "b = np.ones(M+2)\n",
    "b[0] = b[M+1] = 0\n",
    "\n",
    "# compléter"
   ]
  },
  {
   "cell_type": "markdown",
   "metadata": {
    "deletable": true,
    "editable": true
   },
   "source": [
    "# 2. Équation eikonale en dimension 2\n",
    "\n",
    "On s'intéresse maintenant à la dimension $2$ dans le domaine $\\Omega = ]0,1[^2:\n",
    "\n",
    "$$\n",
    "\\begin{cases} \\nr{\\nabla u(x)} = 1 & \\hbox{ sur } \\Omega \\\\ \n",
    "u = 0 & \\hbox{ sur } \\partial \\Omega. \n",
    "\\end{cases}\n",
    "$$\n",
    "\n",
    "Là encore, la solution est connue et explicite: il s'agit de la fonction $u(x) = 0.5 - \\nr{x-\\bar{x}}$ où $\\bar{x} = (.5,.5)$. Soient $M > 0$, $h=1/(M+1)$ et $x_{i,j} = (i/h,j/h)$ pour $0\\leq i\\leq M+1$. On considère une variable discrète $(u_{i,j})_{1\\leq i,j\\leq M+1}$ comme une matrice de taille $(M+2)\\times (M+2)$. On note l'ensemble des matrices $\\Mat_{M+2,M+2}$ \\in \\Rsp^{(M+2) \\times (M+2)}$. On discrétise l'équation eikonale par le système non-linéaire suivant \n",
    "\n",
    "$$ P_h(u) = b $$\n",
    "\n",
    "où $b_{i,j} = 0$ si $x_{i,j} \\in \\partial \\Omega$ et $b_{i,j} = 1$ sinon, et où $P_h: \\Mat_{M+2,M+2}\\to\\Mat_{M+2,M+2}$ est défini par\n",
    "\n",
    "$$\\begin{cases}\n",
    "P_h(u)_{i,j} = u_{i,j} & \\hbox{ si } i \\in \\{0,M+1\\} \\hbox{ ou } j \\in \\{0,M+1\\} \\\\\n",
    "P_h(u)_{i,j} = \\sqrt{\\max\\left(0, \\frac{u_{i,j} - u_{i-1,j}}{h}, \\frac{u_{i,j} - u_{i+1,j}}{h}\\right)^2+\n",
    "\\max\\left(0, \\frac{u_{i,j} - u_{i,j-1}}{h}, \\frac{u_{i,j} - u_{i,j+1}}{h}\\right)^2},  & \\hbox{ pour } 1\\leq i,j\\leq M\\\\\n",
    "\\end{cases}\n",
    "$$\n",
    "\n",
    "L'algorithme permettant de résoudre numériquement le système $P_h(u) = b$ est  le même que précédemment. On commence par  fixer $u^0 = 0 \\in \\Mat_{M+2,M+2}$, de sorte que $P_h(u^0)\\leq b$ (inégalité terme à terme). Pour tout $k\\geq 0$ et tout $0  \\leq i,j\\leq M$ on définit $t^k_{i,j}\\in\\Rsp$ tel que\n",
    "$$ P_h(u^k + t^k_{i,j} e_{i,j}) = b_{i,j} $$\n",
    "où $e_{i,j}$ est la base canonique de  $\\Mat_{M+2,M+2}$. Enfin, on pose\n",
    "$$ u^{k+1}_{i,j} = u^k_{i,j} + t^k_{i,j}.$$\n",
    "\n",
    "**Q7.** Démontrer que si $P_h(u^k) \\leq b$ alors $t^k_{i,j}\\geq 0$ pour tout $0\\leq i,j \\leq M+1$. En déduire que $u^{k+1}\\geq u^k$ et que $P_h(u^{k+1}) \\leq b$.\n",
    "\n",
    "Étant donné $u^k\\in\\Mat_{M+2,M+2}$, on admet que l'unique solution de l'équation \n",
    "$$ \\sqrt{\\max\\left(0, \\frac{x - u^k_{i-1,j}}{h}, \\frac{x - u^k_{i+1,j}}{h}\\right)^2+\n",
    "\\max\\left(0, \\frac{x - u^k_{i,j-1}}{h}, \\frac{x - u^k_{i,j+1}}{h}\\right)^2} = b_{i,j} > 0$$\n",
    "est donnée par \n",
    "$$ u_{i,j}^{k+1} = \\begin{cases}\n",
    "\\min(A_{i,j}, B_{i,j}) + b_{i,j} h & \\hbox{ si } \\abs{A_{i,j} - B_{i,j}} \\geq b_{i,j} h \\\\\n",
    "\\frac{A_{i,j}+B_{i,j}+\\sqrt{2 b_{i,j}^2 h^2 - (A_{i,j}-B_{i,j})^2}}{2} &\\hbox{ sinon }\n",
    "\\end{cases} $$\n",
    "où $A_{i,j} = \\min(u_{i-1,j}, u_{i+1,j})$ et $B_{i,j} = \\min(u_{i,j-1}, u_{i,j+1})$.\n",
    "\n",
    "**Q8** Implémenter la méthode itérative décrite ci-dessous, qui converge vers une solution de $P_h(u) = b$.\n",
    "\n",
    "*Indication: on utilisera la fonction np.where pour choisir entre les deux formules ci-dessous. Pour visualiser la fonction, on fera appel à plt.imshow(u,vmin=0,vmax=.5)*\n",
    "\n",
    "\n",
    "\n"
   ]
  },
  {
   "cell_type": "code",
   "execution_count": 4,
   "metadata": {
    "collapsed": false,
    "deletable": true,
    "editable": true
   },
   "outputs": [
    {
     "name": "stdout",
     "output_type": "stream",
     "text": [
      "u initial\n"
     ]
    },
    {
     "data": {
      "image/png": "[encoded data removed]",
      "text/plain": [
       "<matplotlib.figure.Figure at 0x7faaac311d10>"
      ]
     },
     "metadata": {},
     "output_type": "display_data"
    }
   ],
   "source": [
    "M = 30\n",
    "h = 1./(M+1)\n",
    "u = np.zeros((M+2,M+2))\n",
    "b = np.ones((M+2,M+2))\n",
    "b[0,:] = 0\n",
    "b[M+1,:] = 0\n",
    "b[:,0] = 0\n",
    "b[:,M+1] = 0\n",
    "\n",
    "print \"u initial\"\n",
    "plt.imshow(u,vmin=0, vmax=0.5)\n",
    "plt.show()\n",
    "\n",
    "for i in xrange(2*M):\n",
    "    # compléter\n",
    "    ;\n"
   ]
  },
  {
   "cell_type": "markdown",
   "metadata": {
    "deletable": true,
    "editable": true
   },
   "source": [
    "**Q9** Soit $u_0(x) = \\frac{1}{2}\\nr{x}^2$. Adapter la méthode précédente à la résolution de l'équation eikonale avec un second membre variable:\n",
    "$$ \\begin{cases}\n",
    "\\nr{\\nabla u(x)} = \\nr{\\nabla u_0(x)} & \\hbox{ sur } \\Omega = ]0,1[^2\\\\\n",
    "u(x) = u_0(x) &\\hbox{ sur } \\partial\\Omega\n",
    "\\end{cases}\n",
    "$$\n",
    "Constater qu'il est (parfois) possible de reconstruire une fonction à partir de la norme de son gradient.\n"
   ]
  },
  {
   "cell_type": "code",
   "execution_count": 5,
   "metadata": {
    "collapsed": false,
    "deletable": true,
    "editable": true
   },
   "outputs": [],
   "source": [
    "M = 20\n",
    "h = 1.0/(M+1)\n",
    "X,Y = np.meshgrid(np.linspace(0,1,M+2),\n",
    "                  np.linspace(0,1,M+2))\n",
    "u0 = .5*(X*X+Y*Y)\n",
    "\n",
    "# on construit un second membre: \n",
    "b = np.sqrt(X*X+Y*Y) # à l'intérieur du domaine, b = |grad u0|\n",
    "b[0,:] = u0[0,:] # au bord du domaine, b = u0\n",
    "b[M+1,:] = u0[M+1,:]\n",
    "b[:,0] = u0[:,0]\n",
    "b[:,M+1] = u0[:,M+1]\n",
    "\n",
    "u = np.zeros((M+2,M+2))\n",
    "u[0,:] = b[0,:] # condition aux bords\n",
    "u[M+1,:] = b[M+1,:]\n",
    "u[:,0] = b[:,0] \n",
    "u[:,M+1] = b[:,M+1]\n",
    "\n",
    "# compléter"
   ]
  }
 ],
 "metadata": {
  "kernelspec": {
   "display_name": "Python 2",
   "language": "python",
   "name": "python2"
  },
  "language_info": {
   "codemirror_mode": {
    "name": "ipython",
    "version": 2
   },
   "file_extension": ".py",
   "mimetype": "text/x-python",
   "name": "python",
   "nbconvert_exporter": "python",
   "pygments_lexer": "ipython2",
   "version": "2.7.12"
  }
 },
 "nbformat": 4,
 "nbformat_minor": 0
}
